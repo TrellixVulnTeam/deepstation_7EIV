{
 "cells": [
  {
   "cell_type": "markdown",
   "metadata": {},
   "source": [
    " # datasetの読み込み"
   ]
  },
  {
   "cell_type": "code",
   "execution_count": null,
   "metadata": {
    "collapsed": true
   },
   "outputs": [],
   "source": [
    "import cPickle as pickle\n",
    "import numpy as np\n",
    "import os\n",
    "from PIL import Image\n",
    "import six"
   ]
  },
  {
   "cell_type": "code",
   "execution_count": null,
   "metadata": {
    "collapsed": true
   },
   "outputs": [],
   "source": [
    "train_files = ['data_batch_{}'.format(i + 1) for i in six.moves.range(5)]\n",
    "test_files = ['test_batch']\n",
    "\n",
    "def load_file(file_path):\n",
    "    with open(file_path, 'rb') as f:\n",
    "        data = pickle.load(f)\n",
    "    return data['data'].astype(np.float32), np.asarray(data['labels'], dtype=np.int32)"
   ]
  },
  {
   "cell_type": "code",
   "execution_count": null,
   "metadata": {
    "collapsed": true
   },
   "outputs": [],
   "source": [
    "def load(data_dir):\n",
    "    train_data = [load_file(os.path.join(data_dir, file_name)) for file_name in train_files]\n",
    "    images, labels = zip(*train_data)\n",
    "    train_images = np.concatenate(images)\n",
    "    train_labels = np.concatenate(labels)\n",
    "    test_data = [load_file(os.path.join(data_dir, file_name)) for file_name in test_files]\n",
    "    images, labels = zip(*test_data)\n",
    "    test_images = np.concatenate(images)\n",
    "    test_labels = np.concatenate(labels)\n",
    "\n",
    "    return train_images, train_labels, test_images, test_labels"
   ]
  },
  {
   "cell_type": "code",
   "execution_count": null,
   "metadata": {
    "collapsed": true
   },
   "outputs": [],
   "source": [
    "def calc_mean(x):\n",
    "    return x.reshape((-1, 3, 32 * 32)).mean(axis=(0, 2))\n",
    "\n",
    "def calc_std(x):\n",
    "    return x.reshape((-1, 3, 32 * 32)).std(axis=(0, 2))\n",
    "\n",
    "def normalize_dataset(x, mean, std=None):\n",
    "    shape = x.shape\n",
    "    x = x.reshape((-1, 3)) - mean\n",
    "    if std is not None:\n",
    "        x /= std\n",
    "    return x.reshape(shape)"
   ]
  },
  {
   "cell_type": "code",
   "execution_count": null,
   "metadata": {
    "collapsed": true
   },
   "outputs": [],
   "source": [
    "def calc_zca(x):\n",
    "    n = x.shape[0]\n",
    "\n",
    "    mean = np.mean(x, axis=0)\n",
    "    x = x - mean\n",
    "\n",
    "    c = np.dot(x.T, x)\n",
    "    u, lam, v = np.linalg.svd(c)\n",
    "\n",
    "    eps = 0\n",
    "    sqlam = np.sqrt(lam + eps)\n",
    "    uzca = np.dot(u / sqlam[np.newaxis, :], u.T)\n",
    "    return uzca, mean"
   ]
  },
  {
   "cell_type": "code",
   "execution_count": null,
   "metadata": {
    "collapsed": true
   },
   "outputs": [],
   "source": [
    "def save_image(x, path, normalize=True):\n",
    "    image = train_x[:100,:]\n",
    "    if normalize:\n",
    "        max_value = np.max(np.abs(image), axis=1).reshape((100, 1))\n",
    "        image = image / max_value * 127\n",
    "    image = (image + 128).clip(0, 255).astype(np.uint8)\n",
    "    image = image.reshape((10, 10, 3, 32, 32))\n",
    "    image = np.pad(image, ((0, 0), (0, 0), (0, 0), (2, 2), (2, 2)), mode='constant', constant_values=0)\n",
    "    image = image.transpose((0, 3, 1, 4, 2)).reshape((360, 360, 3))\n",
    "    Image.fromarray(image).save(path)"
   ]
  },
  {
   "cell_type": "code",
   "execution_count": null,
   "metadata": {
    "collapsed": true
   },
   "outputs": [],
   "source": [
    "if __name__ == '__main__':\n",
    "    dataset_path = 'dataset/cifar-10-batches-py'\n",
    "    output_path = 'dataset'\n",
    "    raw_train_x, raw_train_y, raw_test_x, raw_test_y = load(dataset_path)\n",
    "\n",
    "    # save labels\n",
    "    labels = {'train': raw_train_y, 'test': raw_test_y}\n",
    "    with open(os.path.join(output_path, 'label.pkl'), 'wb') as f:\n",
    "        pickle.dump(labels, f, pickle.HIGHEST_PROTOCOL)\n",
    "\n",
    "    mean = calc_mean(raw_train_x)\n",
    "    std = calc_std(raw_train_x)\n",
    "\n",
    "    # subtract mean\n",
    "    train_x = normalize_dataset(raw_train_x, mean)\n",
    "    test_x = normalize_dataset(raw_test_x, mean)\n",
    "    images = {'train': train_x, 'test': test_x}\n",
    "    with open(os.path.join(output_path, 'image.pkl'), 'wb') as f:\n",
    "        pickle.dump(images, f, pickle.HIGHEST_PROTOCOL)\n",
    "    with open(os.path.join(output_path, 'mean.txt'), 'w') as f:\n",
    "        f.write(np.array_str(mean))\n",
    "    save_image(train_x, os.path.join(output_path, 'sample.png'))\n",
    "\n",
    "    # contrast normalization\n",
    "    train_x = normalize_dataset(raw_train_x, mean, std)\n",
    "    test_x = normalize_dataset(raw_test_x, mean, std)\n",
    "    with open(os.path.join(output_path, 'image_norm.pkl'), 'wb') as f:\n",
    "        pickle.dump(images, f, pickle.HIGHEST_PROTOCOL)\n",
    "    save_image(train_x, os.path.join(output_path, 'sample_norm.png'), normalize=True)\n",
    "\n",
    "    # ZCA whitening\n",
    "    zca, zca_mean = calc_zca(raw_train_x)\n",
    "    train_x = np.dot(raw_train_x - zca_mean, zca.T)\n",
    "    test_x = np.dot(raw_test_x - zca_mean, zca.T)\n",
    "    with open(os.path.join(output_path, 'image_zca.pkl'), 'wb') as f:\n",
    "        pickle.dump(images, f, pickle.HIGHEST_PROTOCOL)\n",
    "    save_image(train_x, os.path.join(output_path, 'sample_zca.png'), normalize=True)\n",
    "\n",
    "    # contrast normalization and ZCA whitening\n",
    "    train_x = normalize_dataset(raw_train_x, mean, std)\n",
    "    test_x = normalize_dataset(raw_test_x, mean, std)\n",
    "    zca, zca_mean = calc_zca(train_x)\n",
    "    train_x = np.dot(train_x - zca_mean, zca.T)\n",
    "    test_x = np.dot(test_x - zca_mean, zca.T)\n",
    "    with open(os.path.join(output_path, 'image_norm_zca.pkl'), 'wb') as f:\n",
    "        pickle.dump(images, f, pickle.HIGHEST_PROTOCOL)\n",
    "    save_image(train_x, os.path.join(output_path, 'sample_norm_zca.png'), normalize=True)"
   ]
  }
 ],
 "metadata": {
  "kernelspec": {
   "display_name": "Python 2",
   "language": "python",
   "name": "python2"
  },
  "language_info": {
   "codemirror_mode": {
    "name": "ipython",
    "version": 2
   },
   "file_extension": ".py",
   "mimetype": "text/x-python",
   "name": "python",
   "nbconvert_exporter": "python",
   "pygments_lexer": "ipython2",
   "version": "2.7.13"
  }
 },
 "nbformat": 4,
 "nbformat_minor": 0
}
