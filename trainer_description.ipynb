{
 "cells": [
  {
   "cell_type": "markdown",
   "metadata": {},
   "source": [
    "# 学習器\n",
    "class cifartrainer,def forward,def train_imageで構成."
   ]
  },
  {
   "cell_type": "code",
   "execution_count": 1,
   "metadata": {
    "collapsed": true
   },
   "outputs": [],
   "source": [
    "import numpy as np\n",
    "import six\n",
    "from scipy.misc import imresize, imrotate\n",
    "\n",
    "from chainer import functions as F\n",
    "from chainer import cuda\n",
    "from chainer import Variable"
   ]
  },
  {
   "cell_type": "code",
   "execution_count": null,
   "metadata": {
    "collapsed": true
   },
   "outputs": [],
   "source": [
    "class CifarTrainer(object):\n",
    "    def __init__(self, net, optimizer, epoch_num=100, batch_size=100, device_id=-1):\n",
    "        self.net = net\n",
    "        self.optimizer = optimizer\n",
    "        self.epoch_num = epoch_num\n",
    "        self.batch_size = batch_size\n",
    "        self.device_id = device_id\n",
    "        if device_id >= 0:\n",
    "            self.xp = cuda.cupy\n",
    "            self.net.to_gpu(device_id)\n",
    "        else:\n",
    "            self.xp = np\n",
    "\n",
    "    def fit(self, x, y, valid_x, valid_y, test_x=None, test_y=None, callback=None):\n",
    "        if self.device_id >= 0:\n",
    "            with cuda.cupy.cuda.Device(self.device_id):\n",
    "                return self.__fit(x, y, valid_x, valid_y, test_x, test_y, callback)\n",
    "        else:\n",
    "            return self.__fit(x, y, valid_x, valid_y, test_x, test_y, callback)\n",
    "\n",
    "    def __fit(self, x, y, valid_x, valid_y, test_x, test_y, callback):\n",
    "        batch_size = self.batch_size\n",
    "        for epoch in six.moves.range(self.epoch_num):\n",
    "            perm = np.random.permutation(len(x))\n",
    "            train_loss = 0\n",
    "            train_acc = 0\n",
    "            for i in six.moves.range(0, len(x), self.batch_size):\n",
    "                self.net.zerograds()\n",
    "                batch_index = perm[i:i + batch_size]\n",
    "                x_batch = self.__trans_image(x[batch_index])\n",
    "                loss, acc = self.__forward(x_batch, y[batch_index])\n",
    "                loss.backward()\n",
    "                self.optimizer.update()\n",
    "                train_loss += float(loss.data) * len(x_batch)\n",
    "                train_acc += float(acc.data) * len(x_batch)\n",
    "            train_loss /= len(x)\n",
    "            train_acc /= len(x)\n",
    "            valid_loss = 0\n",
    "            valid_acc = 0\n",
    "            if valid_x is not None and valid_y is not None:\n",
    "                for i in six.moves.range(0, len(valid_x), self.batch_size):\n",
    "                    x_batch = valid_x[i:i + batch_size]\n",
    "                    loss, acc = self.__forward(x_batch, valid_y[i:i + batch_size], train=False)\n",
    "                    valid_loss += float(loss.data) * len(x_batch)\n",
    "                    valid_acc += float(acc.data) * len(x_batch)\n",
    "                valid_loss /= len(valid_x)\n",
    "                valid_acc /= len(valid_x)\n",
    "            test_loss = 0\n",
    "            test_acc = 0\n",
    "            if test_x is not None and test_y is not None:\n",
    "                for i in six.moves.range(0, len(test_x), self.batch_size):\n",
    "                    x_batch = test_x[i:i + batch_size]\n",
    "                    loss, acc = self.__forward(x_batch, test_y[i:i + batch_size], train=False)\n",
    "                    test_loss += float(loss.data) * len(x_batch)\n",
    "                    test_acc += float(acc.data) * len(x_batch)\n",
    "                test_loss /= len(test_x)\n",
    "                test_acc /= len(test_x)\n",
    "            if callback is not None:\n",
    "                callback(epoch, self.net, self.optimizer, train_loss, train_acc, valid_loss, valid_acc, test_loss, test_acc)"
   ]
  },
  {
   "cell_type": "code",
   "execution_count": null,
   "metadata": {
    "collapsed": true
   },
   "outputs": [],
   "source": [
    "    def __forward(self, batch_x, batch_t, train=True):\n",
    "        xp = self.xp\n",
    "        x = Variable(xp.asarray(batch_x), volatile=not train)\n",
    "        t = Variable(xp.asarray(batch_t), volatile=not train)\n",
    "        y = self.net(x, train=train)\n",
    "        loss = F.softmax_cross_entropy(y, t)\n",
    "        acc = F.accuracy(y, t)\n",
    "        return loss, acc"
   ]
  },
  {
   "cell_type": "code",
   "execution_count": null,
   "metadata": {
    "collapsed": true
   },
   "outputs": [],
   "source": [
    "    def __trans_image(self, x):\n",
    "        size = 32\n",
    "        n = x.shape[0]\n",
    "        images = np.zeros((n, 3, size, size), dtype=np.float32)\n",
    "        offset = np.random.randint(-4, 5, size=(n, 2))\n",
    "        mirror = np.random.randint(2, size=n)\n",
    "        for i in six.moves.range(n):\n",
    "            image = x[i]\n",
    "            top, left = offset[i]\n",
    "            left = max(0, left)\n",
    "            top = max(0, top)\n",
    "            right = min(size, left + size)\n",
    "            bottom = min(size, top + size)\n",
    "            if mirror[i] > 0:\n",
    "                image = image[:,:,::-1]\n",
    "            images[i,:,size-bottom:size-top,size-right:size-left] = image[:,top:bottom,left:right]\n",
    "        return images"
   ]
  }
 ],
 "metadata": {
  "kernelspec": {
   "display_name": "Python 2",
   "language": "python",
   "name": "python2"
  },
  "language_info": {
   "codemirror_mode": {
    "name": "ipython",
    "version": 2
   },
   "file_extension": ".py",
   "mimetype": "text/x-python",
   "name": "python",
   "nbconvert_exporter": "python",
   "pygments_lexer": "ipython2",
   "version": "2.7.6"
  }
 },
 "nbformat": 4,
 "nbformat_minor": 0
}
